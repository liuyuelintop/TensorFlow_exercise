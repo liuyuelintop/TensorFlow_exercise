{
 "cells": [
  {
   "cell_type": "code",
   "execution_count": null,
   "metadata": {},
   "outputs": [],
   "source": [
    "import tensorflow as tf\n",
    "import tensorflow.examples.tutorials.mnist.input_data as input_data\n",
    "mnist = input_data.read_data_sets(\"MNIST_data/\", one_hot=True)"
   ]
  },
  {
   "cell_type": "code",
   "execution_count": null,
   "metadata": {},
   "outputs": [],
   "source": [
    "def weight(shape):\n",
    "    return tf.Variable(tf.truncated_normal(shape, stddev=0.1), name='W')"
   ]
  },
  {
   "cell_type": "code",
   "execution_count": null,
   "metadata": {},
   "outputs": [],
   "source": [
    "def bias(shape):\n",
    "    return tf.Variable(tf.constant(0.1, shape=shape), name='b')"
   ]
  },
  {
   "cell_type": "code",
   "execution_count": null,
   "metadata": {},
   "outputs": [],
   "source": [
    "def conv2d(x,W):\n",
    "    return tf.nn.conv2d(x,W,strides=[1,1,1,1],padding='SAME')"
   ]
  },
  {
   "cell_type": "code",
   "execution_count": null,
   "metadata": {},
   "outputs": [],
   "source": [
    "def max_pool_2x2(x):\n",
    "    return tf.nn.max_pool(x,ksize=[1,2,2,1],strides=[1,2,2,1],padding='SAME')"
   ]
  },
  {
   "cell_type": "code",
   "execution_count": null,
   "metadata": {},
   "outputs": [],
   "source": [
    "with tf.name_scope('Input_Layer'):\n",
    "    x = tf.placeholder(\"float\",shape=[None, 784]\n",
    "                       ,name=\"x\")    \n",
    "    x_image = tf.reshape(x, [-1, 28, 28, 1])"
   ]
  },
  {
   "cell_type": "code",
   "execution_count": null,
   "metadata": {},
   "outputs": [],
   "source": [
    "with tf.name_scope('C1_Conv'):\n",
    "    W1 = weight([5,5,1,16])\n",
    "    b1 = bias([16])\n",
    "    Conv1=conv2d(x_image,W1) + b1\n",
    "    C1_Conv = tf.nn.relu(Conv1)"
   ]
  },
  {
   "cell_type": "code",
   "execution_count": null,
   "metadata": {},
   "outputs": [],
   "source": [
    "with tf.name.scope(\"C1_Pool\"):\n",
    "    C1_Pool = max_pool_2x2(C1_Conv)"
   ]
  },
  {
   "cell_type": "code",
   "execution_count": null,
   "metadata": {},
   "outputs": [],
   "source": [
    "with tf.name_scope('C2_Conv'):\n",
    "    W2 = weight([5,5,16,36])\n",
    "    b2 = bias([36])\n",
    "    Conv2=conv2d(C1_Pool, W2)+ b2\n",
    "    C2_Conv = tf.nn.relu(Conv2)"
   ]
  },
  {
   "cell_type": "code",
   "execution_count": null,
   "metadata": {},
   "outputs": [],
   "source": [
    "with tf.name_scope('C2_Pool'):\n",
    "    C2_Pool = max_pool_2x2(C2_Conv) "
   ]
  },
  {
   "cell_type": "code",
   "execution_count": null,
   "metadata": {},
   "outputs": [],
   "source": [
    "with tf.name_scope('D_Flat'):\n",
    "    D_Flat = tf.reshape(C2_Pool, [-1, 1764])"
   ]
  },
  {
   "cell_type": "code",
   "execution_count": null,
   "metadata": {},
   "outputs": [],
   "source": [
    "with tf.name_scope('D_Hidden_Layer'):\n",
    "    W3= weight([1764, 128])\n",
    "    b3= bias([128])\n",
    "    D_Hidden = tf.nn.relu(\n",
    "                  tf.matmul(D_Flat, W3)+b3)\n",
    "    D_Hidden_Dropout= tf.nn.dropout(D_Hidden, \n",
    "                                keep_prob=0.8)"
   ]
  },
  {
   "cell_type": "code",
   "execution_count": null,
   "metadata": {},
   "outputs": [],
   "source": [
    "with tf.name_scope('Output_Layer'):\n",
    "    W4 = weight([128,10])\n",
    "    b4 = bias([10])\n",
    "    y_predict= tf.nn.softmax(\n",
    "                 tf.matmul(D_Hidden_Dropout,\n",
    "                           W4)+b4)"
   ]
  },
  {
   "cell_type": "code",
   "execution_count": null,
   "metadata": {},
   "outputs": [],
   "source": [
    "with tf.name_scope(\"optimizer\"):\n",
    "    \n",
    "    y_label = tf.placeholder(\"float\", shape=[None, 10], \n",
    "                              name=\"y_label\")\n",
    "    \n",
    "    loss_function = tf.reduce_mean(\n",
    "                      tf.nn.softmax_cross_entropy_with_logits\n",
    "                         (logits=y_predict , \n",
    "                          labels=y_label))\n",
    "    \n",
    "    optimizer = tf.train.AdamOptimizer(learning_rate=0.0001) \\\n",
    "                    .minimize(loss_function)"
   ]
  },
  {
   "cell_type": "code",
   "execution_count": null,
   "metadata": {},
   "outputs": [],
   "source": [
    "with tf.name_scope(\"evaluate_model\"):\n",
    "    correct_prediction = tf.equal(tf.argmax(y_predict, 1),\n",
    "                                  tf.argmax(y_label, 1))\n",
    "    accuracy = tf.reduce_mean(tf.cast(correct_prediction, \"float\"))"
   ]
  },
  {
   "cell_type": "code",
   "execution_count": null,
   "metadata": {},
   "outputs": [],
   "source": [
    "trainEpochs = 30\n",
    "batchSize = 100\n",
    "totalBatchs = int(mnist.train.num_examples/batchSize)\n",
    "epoch_list=[];accuracy_list=[];loss_list=[];\n",
    "from time import time\n",
    "startTime=time()\n",
    "sess = tf.Session()\n",
    "sess.run(tf.global_variables_initializer())"
   ]
  },
  {
   "cell_type": "code",
   "execution_count": null,
   "metadata": {},
   "outputs": [],
   "source": [
    "for epoch in range(trainEpochs):\n",
    "\n",
    "    \n",
    "    for i in range(totalBatchs):\n",
    "        batch_x, batch_y = mnist.train.next_batch(batchSize)\n",
    "        sess.run(optimizer,feed_dict={x: batch_x,\n",
    "                                      y_label: batch_y})\n",
    "        \n",
    "    \n",
    "    loss,acc = sess.run([loss_function,accuracy],\n",
    "                        feed_dict={x: mnist.validation.images, \n",
    "                                   y_label: mnist.validation.labels})\n",
    "\n",
    "    epoch_list.append(epoch)\n",
    "    loss_list.append(loss);accuracy_list.append(acc)    \n",
    "    \n",
    "    print(\"Train Epoch:\", '%02d' % (epoch+1), \\\n",
    "          \"Loss=\",\"{:.9f}\".format(loss),\" Accuracy=\",acc)\n",
    "    \n",
    "duration =time()-startTime\n",
    "print(\"Train Finished takes:\",duration)      "
   ]
  },
  {
   "cell_type": "code",
   "execution_count": null,
   "metadata": {},
   "outputs": [],
   "source": [
    "%matplotlib inline\n",
    "import matplotlib.pyplot as plt\n",
    "fig = plt.gcf()\n",
    "fig.set_size_inches(4,2)\n",
    "plt.plot(epoch_list, loss_list, label = 'loss')\n",
    "plt.ylabel('loss')\n",
    "plt.xlabel('epoch')\n",
    "plt.legend(['loss'], loc='upper left')"
   ]
  },
  {
   "cell_type": "code",
   "execution_count": null,
   "metadata": {},
   "outputs": [],
   "source": [
    "plt.plot(epoch_list, accuracy_list,label=\"accuracy\" )\n",
    "fig = plt.gcf()\n",
    "fig.set_size_inches(4,2)\n",
    "plt.ylim(0.8,1)\n",
    "plt.ylabel('accuracy')\n",
    "plt.xlabel('epoch')\n",
    "plt.legend()\n",
    "plt.show()\n"
   ]
  },
  {
   "cell_type": "code",
   "execution_count": null,
   "metadata": {},
   "outputs": [],
   "source": [
    "len(mnist.test.images)"
   ]
  },
  {
   "cell_type": "code",
   "execution_count": null,
   "metadata": {},
   "outputs": [],
   "source": [
    "print(\"Accuracy:\", \n",
    "      sess.run(accuracy,feed_dict={x: mnist.test.images,\n",
    "                                   y_label: mnist.test.labels}))"
   ]
  },
  {
   "cell_type": "code",
   "execution_count": null,
   "metadata": {},
   "outputs": [],
   "source": [
    "print(\"Accuracy:\", \n",
    "      sess.run(accuracy,feed_dict={x: mnist.test.images[:5000],\n",
    "                                   y_label: mnist.test.labels[:5000]}))"
   ]
  },
  {
   "cell_type": "code",
   "execution_count": null,
   "metadata": {},
   "outputs": [],
   "source": [
    "print(\"Accuracy:\", \n",
    "      sess.run(accuracy,feed_dict={x: mnist.test.images[5000:],\n",
    "                                   y_label: mnist.test.labels[5000:]}))"
   ]
  },
  {
   "cell_type": "code",
   "execution_count": null,
   "metadata": {},
   "outputs": [],
   "source": [
    "y_predict=sess.run(y_predict, \n",
    "                   feed_dict={x: mnist.test.images[:5000]})"
   ]
  },
  {
   "cell_type": "code",
   "execution_count": null,
   "metadata": {},
   "outputs": [],
   "source": [
    "y_predict[:5]"
   ]
  },
  {
   "cell_type": "code",
   "execution_count": null,
   "metadata": {},
   "outputs": [],
   "source": [
    "prediction_result=sess.run(tf.argmax(y_predict,1),\n",
    "                           feed_dict={x: mnist.test.images ,\n",
    "                                      y_label: mnist.test.labels})"
   ]
  },
  {
   "cell_type": "code",
   "execution_count": null,
   "metadata": {},
   "outputs": [],
   "source": [
    "prediction_result[:10]"
   ]
  },
  {
   "cell_type": "code",
   "execution_count": null,
   "metadata": {},
   "outputs": [],
   "source": [
    "import numpy as np\n",
    "def show_images_labels_predict(images,labels,prediction_result):\n",
    "    fig = plt.gcf()\n",
    "    fig.set_size_inches(8, 10)\n",
    "    for i in range(0, 10):\n",
    "        ax=plt.subplot(5,5, 1+i)\n",
    "        ax.imshow(np.reshape(images[i],(28, 28)), \n",
    "                  cmap='binary')\n",
    "        ax.set_title(\"label=\" +str(np.argmax(labels[i]))+\n",
    "                     \",predict=\"+str(prediction_result[i])\n",
    "                     ,fontsize=9) \n",
    "    plt.show()"
   ]
  },
  {
   "cell_type": "code",
   "execution_count": null,
   "metadata": {},
   "outputs": [],
   "source": [
    "show_images_labels_predict(mnist.test.images,mnist.test.labels,prediction_result)"
   ]
  },
  {
   "cell_type": "code",
   "execution_count": null,
   "metadata": {},
   "outputs": [],
   "source": [
    "for i in range(500):\n",
    "    if prediction_result[i]!=np.argmax(mnist.test.labels[i]):\n",
    "        print(\"i=\"+str(i)+\n",
    "              \"   label=\",np.argmax(mnist.test.labels[i]),\n",
    "              \"predict=\",prediction_result[i])"
   ]
  },
  {
   "cell_type": "code",
   "execution_count": null,
   "metadata": {},
   "outputs": [],
   "source": [
    "def show_images_labels_predict_error(images,labels,prediction_result):\n",
    "    fig = plt.gcf()\n",
    "    fig.set_size_inches(8, 10)\n",
    "    i=0;j=0\n",
    "    while i<10:\n",
    "        if prediction_result[j]!=np.argmax(labels[j]):\n",
    "            ax=plt.subplot(5,5, 1+i)\n",
    "            ax.imshow(np.reshape(images[j],(28, 28)), \n",
    "                      cmap='binary')\n",
    "            ax.set_title(\"j=\"+str(j)+\n",
    "                         \",l=\" +str(np.argmax(labels[j]))+\n",
    "                         \",p=\"+str(prediction_result[j])\n",
    "                         ,fontsize=9) \n",
    "            i=i+1  \n",
    "        j=j+1\n",
    "    plt.show()"
   ]
  },
  {
   "cell_type": "code",
   "execution_count": null,
   "metadata": {},
   "outputs": [],
   "source": [
    "show_images_labels_predict_error(mnist.test.images,mnist.test.labels,prediction_result)"
   ]
  },
  {
   "cell_type": "code",
   "execution_count": null,
   "metadata": {},
   "outputs": [],
   "source": [
    "saver = tf.train.Saver()"
   ]
  },
  {
   "cell_type": "code",
   "execution_count": null,
   "metadata": {},
   "outputs": [],
   "source": [
    "save_path = saver.save(sess, \"saveModel/CNN_model1\")"
   ]
  },
  {
   "cell_type": "code",
   "execution_count": null,
   "metadata": {},
   "outputs": [],
   "source": [
    "print(\"Model saved in file: %s\" % save_path)"
   ]
  },
  {
   "cell_type": "code",
   "execution_count": null,
   "metadata": {},
   "outputs": [],
   "source": [
    "merged = tf.summary.merge_all()\n",
    "train_writer = tf.summary.FileWriter('log/CNN',sess.graph)"
   ]
  },
  {
   "cell_type": "code",
   "execution_count": null,
   "metadata": {},
   "outputs": [],
   "source": [
    "sess.close()"
   ]
  }
 ],
 "metadata": {
  "kernelspec": {
   "display_name": "Python 3",
   "language": "python",
   "name": "python3"
  },
  "language_info": {
   "codemirror_mode": {
    "name": "ipython",
    "version": 3
   },
   "file_extension": ".py",
   "mimetype": "text/x-python",
   "name": "python",
   "nbconvert_exporter": "python",
   "pygments_lexer": "ipython3",
   "version": "3.7.3"
  }
 },
 "nbformat": 4,
 "nbformat_minor": 2
}
